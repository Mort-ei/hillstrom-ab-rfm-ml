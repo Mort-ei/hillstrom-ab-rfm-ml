{
 "cells": [
  {
   "cell_type": "markdown",
   "id": "a54459eb-d460-4607-b2ca-3b4cc7086163",
   "metadata": {},
   "source": [
    "# Notebook 01 — Setup & Data Load \n",
    "Goal: load the real Hillstrom dataset, unify schema, do basic sanity checks, and save a processed copy.\n"
   ]
  },
  {
   "cell_type": "code",
   "execution_count": 7,
   "id": "56fd5500-6bdd-4277-a47f-978a5b82a082",
   "metadata": {},
   "outputs": [],
   "source": [
    "import pandas as pd\n",
    "import numpy as np\n",
    "from pathlib import Path\n",
    "from sklift.datasets import fetch_hillstrom"
   ]
  },
  {
   "cell_type": "code",
   "execution_count": 8,
   "id": "b2405c9c-9031-4ece-8610-6f95556cfb9b",
   "metadata": {},
   "outputs": [
    {
     "name": "stdout",
     "output_type": "stream",
     "text": [
      "Base:  D:\\hillstrom-ab-rfm-ml\n",
      "Data Dir:  D:\\hillstrom-ab-rfm-ml\\data\n",
      "Process Dir:  D:\\hillstrom-ab-rfm-ml\\data\\processed\n"
     ]
    }
   ],
   "source": [
    "BASE = Path.cwd().parents[0] if Path.cwd().name == 'notebooks' else Path.cwd()\n",
    "DATA_DIR = BASE / \"data\"\n",
    "PROC_DIR = DATA_DIR / 'processed'\n",
    "PROC_DIR.mkdir(parents=True, exist_ok=True)\n",
    "\n",
    "print('Base: ', BASE)\n",
    "print('Data Dir: ', DATA_DIR)\n",
    "print('Process Dir: ', PROC_DIR)"
   ]
  },
  {
   "cell_type": "code",
   "execution_count": 36,
   "id": "a0fc2575-9228-433a-b59d-f50f04b8fb23",
   "metadata": {},
   "outputs": [
    {
     "name": "stdout",
     "output_type": "stream",
     "text": [
      "data set size:  (64000, 12)  from source: scikit uplift loader\n"
     ]
    }
   ],
   "source": [
    "def load_hillstrom():\n",
    "    try:\n",
    "        b_spend = fetch_hillstrom(target_col='spend')\n",
    "        b_visit = fetch_hillstrom(target_col='visit')\n",
    "        b_conv = fetch_hillstrom(target_col='conversion')\n",
    "\n",
    "        df = b_spend['data'].copy()\n",
    "        df['segment'] = b_spend['treatment']\n",
    "        df['spend'] = b_spend['target'].astype(float)\n",
    "        df['visit'] = b_visit['target'].astype(int)\n",
    "        df['conversion'] = b_conv['target'].astype(int)\n",
    "\n",
    "        \n",
    "        return df, 'scikit uplift loader'\n",
    "    except Exception as e:\n",
    "        print(\"loader failed: \", e)\n",
    "        \n",
    "        url = \"http://www.minethatdata.com/Kevin_Hillstrom_MineThatData_E-MailAnalytics_DataMiningChallenge_2008.03.20.csv\"\n",
    "        df = pd.read_csv(url)\n",
    "        (DATA_DIR / \"hillstrom.csv\").write_text(df.to_csv(index=false))\n",
    "        return df, \"direct url\"\n",
    "        \n",
    "df, source = load_hillstrom()\n",
    "print('data set size: ', df.shape,\n",
    "      ' from source:', source)\n",
    "        \n",
    "        "
   ]
  },
  {
   "cell_type": "code",
   "execution_count": 37,
   "id": "7e4e6648-5100-4933-a992-6537a63b3b87",
   "metadata": {},
   "outputs": [
    {
     "name": "stdout",
     "output_type": "stream",
     "text": [
      "every thing is in place\n"
     ]
    }
   ],
   "source": [
    "df.columns = (df.columns.str.strip()\n",
    "                            .str.lower()\n",
    "                            .str.replace(' ', '-')\n",
    "                            .str.replace(' ', '_'))\n",
    "\n",
    "required = {\"recency\",\"history\",\"history_segment\",\"segment\",\"visit\",\"conversion\",\"spend\"}\n",
    "missing = required - set(df.columns)\n",
    "\n",
    "if missing:\n",
    "    print('there is missing columns')\n",
    "else:\n",
    "    print('every thing is in place')\n"
   ]
  },
  {
   "cell_type": "code",
   "execution_count": 38,
   "id": "81e6cf1c-f3fa-47a1-b8e0-36cce42937d0",
   "metadata": {},
   "outputs": [
    {
     "data": {
      "text/html": [
       "<div>\n",
       "<style scoped>\n",
       "    .dataframe tbody tr th:only-of-type {\n",
       "        vertical-align: middle;\n",
       "    }\n",
       "\n",
       "    .dataframe tbody tr th {\n",
       "        vertical-align: top;\n",
       "    }\n",
       "\n",
       "    .dataframe thead th {\n",
       "        text-align: right;\n",
       "    }\n",
       "</style>\n",
       "<table border=\"1\" class=\"dataframe\">\n",
       "  <thead>\n",
       "    <tr style=\"text-align: right;\">\n",
       "      <th></th>\n",
       "      <th>visit</th>\n",
       "      <th>conversion</th>\n",
       "      <th>spend</th>\n",
       "    </tr>\n",
       "  </thead>\n",
       "  <tbody>\n",
       "    <tr>\n",
       "      <th>count</th>\n",
       "      <td>64000.000000</td>\n",
       "      <td>64000.000000</td>\n",
       "      <td>64000.000000</td>\n",
       "    </tr>\n",
       "    <tr>\n",
       "      <th>mean</th>\n",
       "      <td>0.146781</td>\n",
       "      <td>0.009031</td>\n",
       "      <td>1.050908</td>\n",
       "    </tr>\n",
       "    <tr>\n",
       "      <th>std</th>\n",
       "      <td>0.353890</td>\n",
       "      <td>0.094604</td>\n",
       "      <td>15.036448</td>\n",
       "    </tr>\n",
       "    <tr>\n",
       "      <th>min</th>\n",
       "      <td>0.000000</td>\n",
       "      <td>0.000000</td>\n",
       "      <td>0.000000</td>\n",
       "    </tr>\n",
       "    <tr>\n",
       "      <th>25%</th>\n",
       "      <td>0.000000</td>\n",
       "      <td>0.000000</td>\n",
       "      <td>0.000000</td>\n",
       "    </tr>\n",
       "    <tr>\n",
       "      <th>50%</th>\n",
       "      <td>0.000000</td>\n",
       "      <td>0.000000</td>\n",
       "      <td>0.000000</td>\n",
       "    </tr>\n",
       "    <tr>\n",
       "      <th>75%</th>\n",
       "      <td>0.000000</td>\n",
       "      <td>0.000000</td>\n",
       "      <td>0.000000</td>\n",
       "    </tr>\n",
       "    <tr>\n",
       "      <th>max</th>\n",
       "      <td>1.000000</td>\n",
       "      <td>1.000000</td>\n",
       "      <td>499.000000</td>\n",
       "    </tr>\n",
       "  </tbody>\n",
       "</table>\n",
       "</div>"
      ],
      "text/plain": [
       "              visit    conversion         spend\n",
       "count  64000.000000  64000.000000  64000.000000\n",
       "mean       0.146781      0.009031      1.050908\n",
       "std        0.353890      0.094604     15.036448\n",
       "min        0.000000      0.000000      0.000000\n",
       "25%        0.000000      0.000000      0.000000\n",
       "50%        0.000000      0.000000      0.000000\n",
       "75%        0.000000      0.000000      0.000000\n",
       "max        1.000000      1.000000    499.000000"
      ]
     },
     "execution_count": 38,
     "metadata": {},
     "output_type": "execute_result"
    }
   ],
   "source": [
    "for c in ['recency', 'history', 'spend', 'visit', 'conversion']:\n",
    "    df[c] = pd.to_numeric(df[c], errors='coerce')\n",
    "df[['visit', 'conversion', 'spend']].describe()"
   ]
  },
  {
   "cell_type": "code",
   "execution_count": 54,
   "id": "f41647d0-9f71-40fc-a52c-097c732d1159",
   "metadata": {},
   "outputs": [],
   "source": [
    "arm_map = {\n",
    "    'Womens E-Mail': 'womens',\n",
    "    'Mens E-Mail': 'mens',\n",
    "    'No E-Mail': 'control'\n",
    "}\n",
    "\n",
    "df['arm'] = df['segment'].map(arm_map)\n",
    "df['arm_men']     = (df['arm'] == 'mens').astype(int)\n",
    "df['arm_women']   =  (df['arm'] == 'womens').astype(int)\n",
    "df['arm_control'] = (df['arm'] == 'control').astype(int)"
   ]
  },
  {
   "cell_type": "code",
   "execution_count": 55,
   "id": "37d9b31c-8a27-4ad5-8dc5-5c7558f9ede8",
   "metadata": {},
   "outputs": [
    {
     "data": {
      "text/html": [
       "<div>\n",
       "<style scoped>\n",
       "    .dataframe tbody tr th:only-of-type {\n",
       "        vertical-align: middle;\n",
       "    }\n",
       "\n",
       "    .dataframe tbody tr th {\n",
       "        vertical-align: top;\n",
       "    }\n",
       "\n",
       "    .dataframe thead th {\n",
       "        text-align: right;\n",
       "    }\n",
       "</style>\n",
       "<table border=\"1\" class=\"dataframe\">\n",
       "  <thead>\n",
       "    <tr style=\"text-align: right;\">\n",
       "      <th></th>\n",
       "      <th>segment</th>\n",
       "      <th>arm_control</th>\n",
       "      <th>arm_men</th>\n",
       "      <th>arm_women</th>\n",
       "    </tr>\n",
       "  </thead>\n",
       "  <tbody>\n",
       "    <tr>\n",
       "      <th>0</th>\n",
       "      <td>Womens E-Mail</td>\n",
       "      <td>0</td>\n",
       "      <td>0</td>\n",
       "      <td>1</td>\n",
       "    </tr>\n",
       "    <tr>\n",
       "      <th>1</th>\n",
       "      <td>No E-Mail</td>\n",
       "      <td>1</td>\n",
       "      <td>0</td>\n",
       "      <td>0</td>\n",
       "    </tr>\n",
       "    <tr>\n",
       "      <th>2</th>\n",
       "      <td>Womens E-Mail</td>\n",
       "      <td>0</td>\n",
       "      <td>0</td>\n",
       "      <td>1</td>\n",
       "    </tr>\n",
       "    <tr>\n",
       "      <th>3</th>\n",
       "      <td>Mens E-Mail</td>\n",
       "      <td>0</td>\n",
       "      <td>1</td>\n",
       "      <td>0</td>\n",
       "    </tr>\n",
       "    <tr>\n",
       "      <th>4</th>\n",
       "      <td>Womens E-Mail</td>\n",
       "      <td>0</td>\n",
       "      <td>0</td>\n",
       "      <td>1</td>\n",
       "    </tr>\n",
       "    <tr>\n",
       "      <th>...</th>\n",
       "      <td>...</td>\n",
       "      <td>...</td>\n",
       "      <td>...</td>\n",
       "      <td>...</td>\n",
       "    </tr>\n",
       "    <tr>\n",
       "      <th>63995</th>\n",
       "      <td>Mens E-Mail</td>\n",
       "      <td>0</td>\n",
       "      <td>1</td>\n",
       "      <td>0</td>\n",
       "    </tr>\n",
       "    <tr>\n",
       "      <th>63996</th>\n",
       "      <td>Mens E-Mail</td>\n",
       "      <td>0</td>\n",
       "      <td>1</td>\n",
       "      <td>0</td>\n",
       "    </tr>\n",
       "    <tr>\n",
       "      <th>63997</th>\n",
       "      <td>Mens E-Mail</td>\n",
       "      <td>0</td>\n",
       "      <td>1</td>\n",
       "      <td>0</td>\n",
       "    </tr>\n",
       "    <tr>\n",
       "      <th>63998</th>\n",
       "      <td>Womens E-Mail</td>\n",
       "      <td>0</td>\n",
       "      <td>0</td>\n",
       "      <td>1</td>\n",
       "    </tr>\n",
       "    <tr>\n",
       "      <th>63999</th>\n",
       "      <td>Mens E-Mail</td>\n",
       "      <td>0</td>\n",
       "      <td>1</td>\n",
       "      <td>0</td>\n",
       "    </tr>\n",
       "  </tbody>\n",
       "</table>\n",
       "<p>64000 rows × 4 columns</p>\n",
       "</div>"
      ],
      "text/plain": [
       "             segment  arm_control  arm_men  arm_women\n",
       "0      Womens E-Mail            0        0          1\n",
       "1          No E-Mail            1        0          0\n",
       "2      Womens E-Mail            0        0          1\n",
       "3        Mens E-Mail            0        1          0\n",
       "4      Womens E-Mail            0        0          1\n",
       "...              ...          ...      ...        ...\n",
       "63995    Mens E-Mail            0        1          0\n",
       "63996    Mens E-Mail            0        1          0\n",
       "63997    Mens E-Mail            0        1          0\n",
       "63998  Womens E-Mail            0        0          1\n",
       "63999    Mens E-Mail            0        1          0\n",
       "\n",
       "[64000 rows x 4 columns]"
      ]
     },
     "execution_count": 55,
     "metadata": {},
     "output_type": "execute_result"
    }
   ],
   "source": [
    "df[['segment', 'arm_control', 'arm_men', 'arm_women']]"
   ]
  },
  {
   "cell_type": "code",
   "execution_count": 65,
   "id": "009e13fb-25e1-4ad7-990f-9040f6aef0cb",
   "metadata": {},
   "outputs": [],
   "source": [
    "summary = df.groupby('arm').agg(\n",
    "    n = ('arm', 'size'),\n",
    "    visit_rate = ('visit', 'mean'),\n",
    "    conversion_rate = ('conversion', 'mean'),\n",
    "    avg_spend = ('spend', 'mean'),\n",
    "    p_spend_gt0 = ('spend', lambda s: (s>0).mean())\n",
    ").sort_index()"
   ]
  },
  {
   "cell_type": "code",
   "execution_count": 66,
   "id": "a462f4c3-6d66-4908-8c23-46d542a3b999",
   "metadata": {},
   "outputs": [
    {
     "data": {
      "text/html": [
       "<div>\n",
       "<style scoped>\n",
       "    .dataframe tbody tr th:only-of-type {\n",
       "        vertical-align: middle;\n",
       "    }\n",
       "\n",
       "    .dataframe tbody tr th {\n",
       "        vertical-align: top;\n",
       "    }\n",
       "\n",
       "    .dataframe thead th {\n",
       "        text-align: right;\n",
       "    }\n",
       "</style>\n",
       "<table border=\"1\" class=\"dataframe\">\n",
       "  <thead>\n",
       "    <tr style=\"text-align: right;\">\n",
       "      <th></th>\n",
       "      <th>n</th>\n",
       "      <th>visit_rate</th>\n",
       "      <th>conversion_rate</th>\n",
       "      <th>avg_spend</th>\n",
       "      <th>p_spend_gt0</th>\n",
       "    </tr>\n",
       "    <tr>\n",
       "      <th>arm</th>\n",
       "      <th></th>\n",
       "      <th></th>\n",
       "      <th></th>\n",
       "      <th></th>\n",
       "      <th></th>\n",
       "    </tr>\n",
       "  </thead>\n",
       "  <tbody>\n",
       "    <tr>\n",
       "      <th>control</th>\n",
       "      <td>21306</td>\n",
       "      <td>0.106167</td>\n",
       "      <td>0.005726</td>\n",
       "      <td>0.652789</td>\n",
       "      <td>0.005726</td>\n",
       "    </tr>\n",
       "    <tr>\n",
       "      <th>mens</th>\n",
       "      <td>21307</td>\n",
       "      <td>0.182757</td>\n",
       "      <td>0.012531</td>\n",
       "      <td>1.422617</td>\n",
       "      <td>0.012531</td>\n",
       "    </tr>\n",
       "    <tr>\n",
       "      <th>womens</th>\n",
       "      <td>21387</td>\n",
       "      <td>0.151400</td>\n",
       "      <td>0.008837</td>\n",
       "      <td>1.077202</td>\n",
       "      <td>0.008837</td>\n",
       "    </tr>\n",
       "  </tbody>\n",
       "</table>\n",
       "</div>"
      ],
      "text/plain": [
       "             n  visit_rate  conversion_rate  avg_spend  p_spend_gt0\n",
       "arm                                                                \n",
       "control  21306    0.106167         0.005726   0.652789     0.005726\n",
       "mens     21307    0.182757         0.012531   1.422617     0.012531\n",
       "womens   21387    0.151400         0.008837   1.077202     0.008837"
      ]
     },
     "execution_count": 66,
     "metadata": {},
     "output_type": "execute_result"
    }
   ],
   "source": [
    "summary"
   ]
  },
  {
   "cell_type": "code",
   "execution_count": 68,
   "id": "f353b53b-f613-4cbc-8e9b-eb1d8f550da3",
   "metadata": {},
   "outputs": [
    {
     "data": {
      "text/plain": [
       "(WindowsPath('D:/hillstrom-ab-rfm-ml/data/processed/hillstrom_clean.csv'),\n",
       " True)"
      ]
     },
     "execution_count": 68,
     "metadata": {},
     "output_type": "execute_result"
    }
   ],
   "source": [
    "out_csv = PROC_DIR / 'hillstrom_clean.csv'\n",
    "out_parquet = PROC_DIR / 'hillstrom_clean.parquet'\n",
    "\n",
    "df.to_csv(out_csv, index=False)\n",
    "df.to_parquet(out_parquet)\n",
    "\n",
    "out_csv, out_parquet.exists()"
   ]
  },
  {
   "cell_type": "code",
   "execution_count": null,
   "id": "8472b995-21a9-4979-9359-4a3b6d2f41fd",
   "metadata": {},
   "outputs": [],
   "source": []
  }
 ],
 "metadata": {
  "kernelspec": {
   "display_name": "Python (hillstrom)",
   "language": "python",
   "name": "hillstrom"
  },
  "language_info": {
   "codemirror_mode": {
    "name": "ipython",
    "version": 3
   },
   "file_extension": ".py",
   "mimetype": "text/x-python",
   "name": "python",
   "nbconvert_exporter": "python",
   "pygments_lexer": "ipython3",
   "version": "3.13.1"
  }
 },
 "nbformat": 4,
 "nbformat_minor": 5
}
