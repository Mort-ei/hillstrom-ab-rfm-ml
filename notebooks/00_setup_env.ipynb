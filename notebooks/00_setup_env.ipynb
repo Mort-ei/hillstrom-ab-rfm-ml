{
 "cells": [
  {
   "cell_type": "code",
   "execution_count": 1,
   "id": "4ba492e1-2804-4f98-a255-c1d36b650977",
   "metadata": {},
   "outputs": [
    {
     "name": "stdout",
     "output_type": "stream",
     "text": [
      "Python: 3.13.1 (tags/v3.13.1:0671451, Dec  3 2024, 19:06:28) [MSC v.1942 64 bit (AMD64)]\n",
      "OS: Windows-11-10.0.26100-SP0\n",
      "pandas: 2.3.1\n",
      "numpy: 2.3.2\n",
      "scikit-learn: 1.7.1\n"
     ]
    }
   ],
   "source": [
    "import sys, platform, pandas as pd, numpy as np, sklearn\n",
    "print(\"Python:\", sys.version)\n",
    "print(\"OS:\", platform.platform())\n",
    "print(\"pandas:\", pd.__version__)\n",
    "print(\"numpy:\", np.__version__)\n",
    "print(\"scikit-learn:\", sklearn.__version__)\n"
   ]
  },
  {
   "cell_type": "code",
   "execution_count": 4,
   "id": "e2b3079f-7073-4cef-bb1f-1d1f3a8d6b9f",
   "metadata": {
    "scrolled": true
   },
   "outputs": [
    {
     "name": "stdout",
     "output_type": "stream",
     "text": [
      "All good :)\n"
     ]
    }
   ],
   "source": [
    "import pandas as pd, numpy as np\n",
    "import matplotlib.pyplot as plt\n",
    "from sklearn.model_selection import train_test_split\n",
    "from sklearn.preprocessing import OneHotEncoder, StandardScaler\n",
    "from sklearn.compose import ColumnTransformer\n",
    "from sklearn.pipeline import Pipeline\n",
    "from sklearn.ensemble import HistGradientBoostingClassifier\n",
    "import pyarrow, fastparquet\n",
    "\n",
    "print(\"All good :)\")\n"
   ]
  },
  {
   "cell_type": "code",
   "execution_count": null,
   "id": "116e849e-0e3e-40fd-b49a-09c2c9459639",
   "metadata": {},
   "outputs": [],
   "source": []
  }
 ],
 "metadata": {
  "kernelspec": {
   "display_name": "Python (hillstrom)",
   "language": "python",
   "name": "hillstrom"
  },
  "language_info": {
   "codemirror_mode": {
    "name": "ipython",
    "version": 3
   },
   "file_extension": ".py",
   "mimetype": "text/x-python",
   "name": "python",
   "nbconvert_exporter": "python",
   "pygments_lexer": "ipython3",
   "version": "3.13.1"
  }
 },
 "nbformat": 4,
 "nbformat_minor": 5
}
